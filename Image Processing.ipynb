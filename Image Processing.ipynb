{
 "cells": [
  {
   "cell_type": "markdown",
   "metadata": {
    "slideshow": {
     "slide_type": "slide"
    }
   },
   "source": [
    "<!-- font: georgia -->\n",
    "# Image Processing With OpenCV!"
   ]
  },
  {
   "cell_type": "markdown",
   "metadata": {
    "slideshow": {
     "slide_type": "slide"
    }
   },
   "source": [
    "## By IEEE NITK"
   ]
  },
  {
   "cell_type": "markdown",
   "metadata": {},
   "source": [
    "### Viewing images:\n",
    "\n",
    "In this snippet, we load the image lena.jpg\n",
    "We then display the same image \n",
    "If this works without any issues you're good to go!"
   ]
  },
  {
   "cell_type": "code",
   "execution_count": 8,
   "metadata": {
    "slideshow": {
     "slide_type": "subslide"
    }
   },
   "outputs": [],
   "source": [
    "import numpy as np\n",
    "import cv2\n",
    "img = cv2.imread('lena.jpg',0)\n",
    "cv2.imshow('image', img)\n",
    "cv2.waitKey(5000)\n",
    "cv2.destroyAllWindows()\n"
   ]
  },
  {
   "cell_type": "markdown",
   "metadata": {},
   "source": [
    "### Conversion From RGB to a Grayscale Image:\n",
    "\n",
    "Here we use the formulae descirbed earlier to do the conversion\n",
    "Here's the formula again:\n",
    "\n",
    "Gray = (R+G+B)/3 \n",
    "\n",
    "Gray = 0.21*R + 0.72*G + 0.07*B"
   ]
  },
  {
   "cell_type": "code",
   "execution_count": 6,
   "metadata": {},
   "outputs": [],
   "source": [
    "img = cv2.imread('lena.jpg',1)\n",
    "\n",
    "blue = img[:,:,0]\n",
    "green = img[:,:,1]\n",
    "red = img[:,:,2]\n",
    "mean = (0.33*blue + 0.33*green + 0.33*red).astype('uint8')\n",
    "lumin = (0.07*blue + 0.72*green + 0.21*red).astype('uint8')\n",
    "\n",
    "cv2.imshow('mean',mean)\n",
    "cv2.waitKey(5000)\n",
    "cv2.destroyAllWindows()\n",
    "\n",
    "cv2.imshow('lumin',lumin)\n",
    "cv2.waitKey(5000)\n",
    "cv2.destroyAllWindows()\n"
   ]
  },
  {
   "cell_type": "markdown",
   "metadata": {},
   "source": [
    "### Conversion from Grayscale to Binary:\n",
    "\n",
    "Here we will implement the concept of thresholding\n",
    "All values above the threshold of 127 are set high (255) , and those below are set low (0)"
   ]
  },
  {
   "cell_type": "code",
   "execution_count": null,
   "metadata": {},
   "outputs": [],
   "source": [
    "img = cv2.imread('grade.jpg',0)\n",
    "\n",
    "ret,thresh1 = cv2.threshold(img,127,255,cv2.THRESH_BINARY)\n",
    "cv2.imshow('thresh',thresh1)\n",
    "cv2.waitKey(5000)\n",
    "cv2.destroyAllWindows()\n"
   ]
  },
  {
   "cell_type": "markdown",
   "metadata": {},
   "source": [
    "Now try out these:\n",
    "\n",
    "cv2.THRESH_BINARY_INV,\n",
    "cv2.THRESH_TRUNC,\n",
    "cv2.THRESH_TOZERO, \n",
    "cv2.THRESH_TOZERO_INV"
   ]
  },
  {
   "cell_type": "code",
   "execution_count": null,
   "metadata": {},
   "outputs": [],
   "source": [
    "### Your code here"
   ]
  },
  {
   "cell_type": "markdown",
   "metadata": {},
   "source": [
    "### Detection of Red Color in an Image:"
   ]
  },
  {
   "cell_type": "code",
   "execution_count": 4,
   "metadata": {},
   "outputs": [],
   "source": [
    "img = cv2.imread('red.jpg',1)\n",
    "\n",
    "hsv = cv2.cvtColor(img,cv2.COLOR_BGR2HSV)\n",
    "lower_color = np.array([0,100,100])\n",
    "upper_color = np.array([10,255,255])\n",
    "mask = cv2.inRange(hsv, lower_color, upper_color)\n",
    "out = cv2.bitwise_and(img,img,mask=mask)\n",
    "cv2.imshow('original',img)\n",
    "cv2.imshow('output',out)\n",
    "cv2.waitKey(5000)\n",
    "cv2.destroyAllWindows()\n"
   ]
  },
  {
   "cell_type": "markdown",
   "metadata": {},
   "source": [
    "### Blurring and Smopthing an Image:\n",
    "\n",
    "Here we will use the concept of the Gaussian Blur to smoothen the image"
   ]
  },
  {
   "cell_type": "code",
   "execution_count": 19,
   "metadata": {},
   "outputs": [],
   "source": [
    "img = cv2.imread('noisy_lena.jpg',0)\n",
    "blur = cv2.GaussianBlur(img,(5,5),0) # Here (5,5) refers to a Gaussian kernel of size 5x5 of zero variance\n",
    "\n",
    "cv2.imshow('img',img)\n",
    "cv2.waitKey(5000)\n",
    "cv2.destroyAllWindows()\n",
    "\n",
    "cv2.imshow('blur',blur)\n",
    "cv2.waitKey(5000)\n",
    "cv2.destroyAllWindows()\n"
   ]
  },
  {
   "cell_type": "markdown",
   "metadata": {},
   "source": [
    "### Now try to implement Median filtering\n",
    "\n",
    "Use the cv2.medianBlur command\n",
    "\n",
    "Here is the link: https://docs.opencv.org/3.1.0/d4/d13/tutorial_py_filtering.html\n",
    "\n",
    "Try to understand the syntax"
   ]
  },
  {
   "cell_type": "code",
   "execution_count": 20,
   "metadata": {},
   "outputs": [],
   "source": [
    "### Your Code Here"
   ]
  },
  {
   "cell_type": "markdown",
   "metadata": {},
   "source": [
    "### Template Matching\n",
    "\n",
    "Now we will implement template matching to try and find Lena's eyes"
   ]
  },
  {
   "cell_type": "code",
   "execution_count": 21,
   "metadata": {},
   "outputs": [],
   "source": [
    "import cv2\n",
    "import numpy as np\n",
    "\n",
    "image = cv2.imread('img.bmp', 1)\n",
    "eyes = cv2.imread('eyes.bmp', 1)\n",
    "\n",
    "h , w ,_= eyes.shape\n",
    "\n",
    "result = cv2.matchTemplate(image, eyes, cv2.TM_CCOEFF_NORMED)\n",
    "\n",
    "threshold = 0.9\n",
    "location = np.where( result > threshold )\n",
    "\n",
    "for pt in zip(*location[::-1]):\n",
    "    cv2.rectangle(image, pt , ( pt[0]+w , pt[1]+h ), (0,0,0), 10)\n",
    "\n",
    "cv2.imshow('Image', image)\n",
    "cv2.waitKey(5000)\n",
    "cv2.destroyAllWindows()"
   ]
  },
  {
   "cell_type": "markdown",
   "metadata": {},
   "source": [
    "### Edge Detection \n",
    "\n",
    "We will use the Sobel Operator to detect edges in an image"
   ]
  },
  {
   "cell_type": "code",
   "execution_count": 25,
   "metadata": {},
   "outputs": [],
   "source": [
    "img = cv2.imread('chessboard.jpg',0)\n",
    "\n",
    "sobelx = cv2.Sobel(img,cv2.CV_64F,1,0,ksize=5)\n",
    "sobely = cv2.Sobel(img,cv2.CV_64F,0,1,ksize=5)\n",
    "\n",
    "sobel_both = np.sqrt(sobelx**2 + sobely**2 )\n",
    "\n",
    "\n",
    "cv2.imshow('SobelX',sobelx)\n",
    "cv2.imshow('SobelY',sobely)\n",
    "cv2.imshow('Sobel_Both',sobel_both)\n",
    "cv2.waitKey(5000)\n",
    "cv2.destroyAllWindows()\n"
   ]
  },
  {
   "cell_type": "markdown",
   "metadata": {},
   "source": [
    "### Face Detection\n",
    "\n",
    "Here we implement the Haar Cascades to detect a face in a given image"
   ]
  },
  {
   "cell_type": "code",
   "execution_count": 31,
   "metadata": {},
   "outputs": [],
   "source": [
    "import numpy as np\n",
    "import cv2 as cv\n",
    "face_cascade = cv.CascadeClassifier('haarcascade_frontalface_default.xml')\n",
    "eye_cascade = cv.CascadeClassifier('haarcascade_eye.xml')\n",
    "\n",
    "img = cv.imread('lena.jpg',1)\n",
    "gray = cv.cvtColor(img, cv.COLOR_BGR2GRAY)\n",
    "\n",
    "faces = face_cascade.detectMultiScale(gray, 1.3, 5)\n",
    "for (x,y,w,h) in faces:\n",
    "    cv.rectangle(img,(x,y),(x+w,y+h),(255,0,0),2)\n",
    "    roi_gray = gray[y:y+h, x:x+w]\n",
    "    roi_color = img[y:y+h, x:x+w]\n",
    "    eyes = eye_cascade.detectMultiScale(roi_gray)\n",
    "    for (ex,ey,ew,eh) in eyes:\n",
    "        cv.rectangle(roi_color,(ex,ey),(ex+ew,ey+eh),(0,255,0),2)\n",
    "cv.imshow('img',img)\n",
    "cv.waitKey(5000)\n",
    "cv.destroyAllWindows()"
   ]
  },
  {
   "cell_type": "markdown",
   "metadata": {},
   "source": [
    "### Now let your imagination run wild\n",
    "\n",
    "Try to draw something fancy on the Lena face\n",
    "You could also try with an image of yourself and see how it goes"
   ]
  },
  {
   "cell_type": "code",
   "execution_count": null,
   "metadata": {},
   "outputs": [],
   "source": [
    "### Your Code Here"
   ]
  }
 ],
 "metadata": {
  "kernelspec": {
   "display_name": "Python 3",
   "language": "python",
   "name": "python3"
  }
 },
 "nbformat": 4,
 "nbformat_minor": 2
}
